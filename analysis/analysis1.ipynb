{
 "cells": [
  {
   "cell_type": "markdown",
   "metadata": {},
   "source": [
    "# Ailie Kwak"
   ]
  },
  {
   "cell_type": "markdown",
   "metadata": {},
   "source": [
    "## Research question/interests\n",
    "\n",
    "**Research Question: Overall, does a healthy mind dimension help to maintain low-stress levels? If so, which factors of the healthy mind dimension are related to low-stress levels and how does it differ based on one's demographic information?**\n",
    "\n",
    "Stress level is affected by many different factors, I assume that factors related to a healthy mind would impact stress level the most. Also, people who are having a healthy mind, a good emotional, psychological, and social well-being, would have a low-stress levels. Among the different factors in the healthy mind dimension, I am wondering which factors would contribute the most to the low-stress level and it differ based on one's demographic information such as gender and age. \n",
    "\n",
    "### Analysis Plan\n",
    "\n",
    "1. I will subset the factors (FLOW, DAILY_SHOUTING, WEEKLY MEDITATION, DAILY_STRESS, AGE, and GENDER) that I am interested in from the whole dataset.\n",
    "2. I would like to remove missing values (NA) that might negatively impact on the result.\n",
    "3. I will consider outliers in the dataset in the next analysis.\n",
    "4. I will create a new column, combine all 3 factors and see if healthy mind factors, together, helps to maintain low-stress level\n",
    "5. I would investigate the correlation of each factor with stress levels. I would visualise each correlation using a scatter plot to show the correlation and relative information such as the error bar and line of best fit.\n",
    "6. Then I would compare the correlation value to find a factor that impacts low-stress levels the most. \n",
    "7. I plan to compare the correlation of each factor by visualising it in one plot since all three measures are in the same unit (0 - 10 times).\n",
    "8. I would use 100% stacked bar, Diverging bars instead of simple bar graph side by side to visualise the data.\n",
    "\n",
    "<br> Version:\n",
    "* This section has been updated for Milestone 3, Task 2. (Mar. 4, 2023)\n",
    "* This section has been updated for Milestone 4 after TA's feedback session (Mar 17, 2023)"
   ]
  },
  {
   "cell_type": "markdown",
   "metadata": {},
   "source": [
    "## Loading Data"
   ]
  },
  {
   "cell_type": "code",
   "execution_count": null,
   "metadata": {},
   "outputs": [],
   "source": [
    "# importing Pandas package to load a data file to notebook\n",
    "import pandas as pd"
   ]
  },
  {
   "cell_type": "code",
   "execution_count": null,
   "metadata": {},
   "outputs": [],
   "source": [
    "# Loading data by using read_csv() function\n",
    "data = pd.read_csv(\"../data/raw/Wellbeing_and_lifestyle_data_Kaggle.csv\")\n",
    "data"
   ]
  },
  {
   "cell_type": "markdown",
   "metadata": {},
   "source": [
    "# Milestone 3"
   ]
  },
  {
   "cell_type": "code",
   "execution_count": null,
   "metadata": {},
   "outputs": [],
   "source": [
    "import pandas as pd\n",
    "import seaborn as sns\n",
    "import matplotlib.pyplot as plt"
   ]
  },
  {
   "cell_type": "code",
   "execution_count": null,
   "metadata": {},
   "outputs": [],
   "source": [
    "data = pd.read_csv(\"../data/raw/Wellbeing_and_lifestyle_data_Kaggle.csv\")\n",
    "data"
   ]
  },
  {
   "cell_type": "code",
   "execution_count": null,
   "metadata": {},
   "outputs": [],
   "source": [
    "# It allows to see how many rows and columns in dataset\n",
    "data.shape #(rows, columns)"
   ]
  },
  {
   "cell_type": "code",
   "execution_count": null,
   "metadata": {},
   "outputs": [],
   "source": [
    "data.head()"
   ]
  },
  {
   "cell_type": "code",
   "execution_count": null,
   "metadata": {},
   "outputs": [],
   "source": [
    "data.columns"
   ]
  },
  {
   "cell_type": "code",
   "execution_count": null,
   "metadata": {},
   "outputs": [],
   "source": [
    "data.describe().T"
   ]
  },
  {
   "cell_type": "code",
   "execution_count": null,
   "metadata": {},
   "outputs": [],
   "source": [
    "data.describe(exclude = \"number\").T"
   ]
  },
  {
   "cell_type": "markdown",
   "metadata": {},
   "source": [
    "### Initial Thoughts\n",
    "* Most of the columns are in numeric veriables.\n",
    "* Only 4 columns are in non-numeric veriables.\n",
    "* 'DAILY_STRESS' column seems like to contain numberic variables but it is not. For correlation analysis, I will change the type to numeric."
   ]
  },
  {
   "cell_type": "markdown",
   "metadata": {},
   "source": [
    "#### Explore the Dataset"
   ]
  },
  {
   "cell_type": "code",
   "execution_count": null,
   "metadata": {},
   "outputs": [],
   "source": [
    "data.DAILY_STRESS.unique()"
   ]
  },
  {
   "cell_type": "code",
   "execution_count": null,
   "metadata": {},
   "outputs": [],
   "source": [
    "# Subsetted columns that I want to explore.\n",
    "data_cleaned = data.drop(['Timestamp', 'FRUITS_VEGGIES', 'PLACES_VISITED', 'CORE_CIRCLE', 'SUPPORTING_OTHERS', \n",
    "                          'SOCIAL_NETWORK', 'ACHIEVEMENT', 'DONATION', 'BMI_RANGE', 'TODO_COMPLETED', 'DAILY_STEPS',\n",
    "                          'LIVE_VISION', 'SLEEP_HOURS', 'LOST_VACATION', 'SUFFICIENT_INCOME', 'PERSONAL_AWARDS', \n",
    "                          'TIME_FOR_PASSION', 'AGE', 'GENDER', 'WORK_LIFE_BALANCE_SCORE'], axis = \"columns\")\n",
    "data_cleaned"
   ]
  },
  {
   "cell_type": "code",
   "execution_count": null,
   "metadata": {},
   "outputs": [],
   "source": [
    "data_cleaned = data_cleaned.dropna()\n",
    "data_cleaned"
   ]
  },
  {
   "cell_type": "markdown",
   "metadata": {},
   "source": [
    "##### Observations:\n",
    "* There is no missing value."
   ]
  },
  {
   "cell_type": "code",
   "execution_count": null,
   "metadata": {},
   "outputs": [],
   "source": [
    "# Dropped a row which contain invalid format value - '1/1/00'.\n",
    "not_stress_levels = ['1/1/00']\n",
    "data_cleaned = data_cleaned[data_cleaned.DAILY_STRESS.isin(not_stress_levels) == False]\n",
    "data_cleaned['DAILY_STRESS'].unique()"
   ]
  },
  {
   "cell_type": "code",
   "execution_count": null,
   "metadata": {},
   "outputs": [],
   "source": [
    "# Reset the index and dropped old index column.\n",
    "data_cleaned = data_cleaned.reset_index()\n",
    "data_cleaned = data_cleaned.drop(['index'], axis = 'columns')\n",
    "data_cleaned"
   ]
  },
  {
   "cell_type": "markdown",
   "metadata": {},
   "source": [
    "#### Visualisation"
   ]
  },
  {
   "cell_type": "code",
   "execution_count": null,
   "metadata": {},
   "outputs": [],
   "source": [
    "# Creat Box plot to explore distribution and outliers of each catetory.\n",
    "plt.rcParams[\"figure.figsize\"] = [10.00, 4.50]\n",
    "plt.rcParams[\"figure.autolayout\"] = True\n",
    "f, axes = plt.subplots(1, 3)\n",
    "sns.boxplot(data = data_cleaned, x = \"WEEKLY_MEDITATION\", y = \"DAILY_STRESS\", ax=axes[0])\n",
    "sns.boxplot(data = data_cleaned, x = \"FLOW\", y = \"DAILY_STRESS\", ax=axes[1])\n",
    "sns.boxplot(data = data_cleaned, x = \"DAILY_SHOUTING\", y = \"DAILY_STRESS\", ax=axes[2])"
   ]
  },
  {
   "cell_type": "markdown",
   "metadata": {},
   "source": [
    "##### Observations:\n",
    "* There is no outliers in WEEKLY MEDITATION column.\n",
    "* There is few ourliers in FLOW and DAILY SHOUTING columns. \n",
    "* In WEEKLY MEDITATION column, DAILY STRESS 0 has widest variation among the values.\n",
    "* In DAILY SHOUTING column, DAILY STRESS 5 has widest variation among the values."
   ]
  },
  {
   "cell_type": "code",
   "execution_count": null,
   "metadata": {},
   "outputs": [],
   "source": [
    "# Create bar graph to see average IVs in each DV value (0, 1, 2, 3, 4, 5)\n",
    "plt.rcParams[\"figure.figsize\"] = [10.00, 4.50]\n",
    "plt.rcParams[\"figure.autolayout\"] = True\n",
    "f, axes = plt.subplots(1, 3)\n",
    "sns.barplot(data = data_cleaned, x = \"WEEKLY_MEDITATION\", y = \"DAILY_STRESS\", order = ['0', '1', '2', '3', '4', '5'], ax=axes[0])\n",
    "sns.barplot(data = data_cleaned, x = \"FLOW\", y = \"DAILY_STRESS\", order = ['0', '1', '2', '3', '4', '5'], ax=axes[1])\n",
    "sns.barplot(data = data_cleaned, x = \"DAILY_SHOUTING\", y = \"DAILY_STRESS\", order = ['0', '1', '2', '3', '4', '5'], ax=axes[2])"
   ]
  },
  {
   "cell_type": "markdown",
   "metadata": {},
   "source": [
    "##### Observations:\n",
    "* Lower stress levels have higher mean of amount of weekly meditation\n",
    "* Lower stress levels have higher mean of Flow state\n",
    "* Lower stress levels have lower mean of amount of Daily shouting\n",
    "* All independent variables, WEEKLY MEDITATION, FLOW, and DAILY SHOUTING has a relationsihp with DAILY STRESS as more healthy mind related with lower daily stress."
   ]
  },
  {
   "cell_type": "markdown",
   "metadata": {},
   "source": [
    "Since it is unable to create scatter plot with the value collected from likert scale, I instead show heat map to visualise the correlation between DV ('Daily stress') and IVs (flow, daily shouting, weekly meditation)"
   ]
  },
  {
   "cell_type": "code",
   "execution_count": null,
   "metadata": {},
   "outputs": [],
   "source": [
    "data_cleaned_n = data_cleaned\n",
    "data_cleaned_n['DAILY_STRESS'] = pd.to_numeric(data_cleaned_n['DAILY_STRESS'])"
   ]
  },
  {
   "cell_type": "code",
   "execution_count": null,
   "metadata": {},
   "outputs": [],
   "source": [
    "corr = data_cleaned_n.corr()\n",
    "sns.heatmap(corr, xticklabels=corr.columns, yticklabels=corr.columns, annot=True, cmap=sns.diverging_palette(220, 20, as_cmap=True))"
   ]
  },
  {
   "cell_type": "markdown",
   "metadata": {},
   "source": [
    "##### Observations:\n",
    "* DAILY STRESS and FLOW are negatively correlated. It means that lower stress level has higher flow state.\n",
    "* DAILY STRESS and WEEKLY MEDITATION are negatively correlated. It means that lower stress level has higher amount of doing weekly meditation.\n",
    "* DAILY STRESS AND DAILY SHOUTING is positively correlated. It means that lower stress level has lower amount of shouting in a day."
   ]
  },
  {
   "cell_type": "markdown",
   "metadata": {},
   "source": [
    "# Milestone 4 & 5\n",
    "\n",
    "**Research Question: Overall, does a healthy mind dimension help to maintain low-stress levels? If so, which factors of the healthy mind dimension are related to low-stress levels and how does it differ based on one's demographic information?**"
   ]
  },
  {
   "cell_type": "markdown",
   "metadata": {},
   "source": [
    "1. Load data\n",
    "* Load and encoding raw data\n",
    "2. Clean data\n",
    "* Remove unneccessary columns that is not needed to answer research question\n",
    "* Remove any missing data (There is no missing data here)\n",
    "* One of the value in DAILY_STRESS column is entered incorreclty. Thus any rows that contain incorrect value removed.\n",
    "3. Process data\n",
    "* Change the data type of DAILY_STRESS to numeric variable\n",
    "* Add Weighted_Score column, reverse code DAILY_SHOUTING column because more shouting means there were more stressful situations.\n",
    "* Change all column names to upper case\n",
    "4. Wrangle data"
   ]
  },
  {
   "cell_type": "code",
   "execution_count": 1,
   "metadata": {},
   "outputs": [],
   "source": [
    "import pandas as pd\n",
    "import numpy as np\n",
    "import matplotlib.pylab as plt\n",
    "import seaborn as sns "
   ]
  },
  {
   "cell_type": "code",
   "execution_count": 2,
   "metadata": {},
   "outputs": [],
   "source": [
    "import sys\n",
    "sys.path.append('code')\n",
    "from project_functions1 import load_clean_process\n",
    "data = load_clean_process(\"../data/raw/Wellbeing_and_lifestyle_data_Kaggle.csv\")"
   ]
  },
  {
   "cell_type": "markdown",
   "metadata": {},
   "source": [
    "### Analysis data"
   ]
  },
  {
   "cell_type": "markdown",
   "metadata": {},
   "source": [
    "#### Exploaring Dataset"
   ]
  },
  {
   "cell_type": "code",
   "execution_count": null,
   "metadata": {},
   "outputs": [],
   "source": [
    "# It allows to see how many rows and columns in dataset\n",
    "data.shape #(rows, columns)"
   ]
  },
  {
   "cell_type": "code",
   "execution_count": null,
   "metadata": {},
   "outputs": [],
   "source": [
    "# Check all column names\n",
    "data.columns"
   ]
  },
  {
   "cell_type": "code",
   "execution_count": null,
   "metadata": {},
   "outputs": [],
   "source": [
    "# Description of numerical variables\n",
    "data.describe().T"
   ]
  },
  {
   "cell_type": "code",
   "execution_count": null,
   "metadata": {},
   "outputs": [],
   "source": [
    "# Description of non-numerical variables\n",
    "data.describe(exclude = \"number\").T"
   ]
  },
  {
   "cell_type": "markdown",
   "metadata": {},
   "source": [
    "##### Observations\n",
    "* My dataset has 15971 rows and 7 columns.\n",
    "* 5 columns are in numeric veriables.\n",
    "* 2 columns are in non-numeric veriables."
   ]
  },
  {
   "cell_type": "markdown",
   "metadata": {},
   "source": [
    "#### Visualisation"
   ]
  },
  {
   "cell_type": "code",
   "execution_count": null,
   "metadata": {},
   "outputs": [],
   "source": [
    "plt.rcParams[\"figure.figsize\"] = [10, 5]\n",
    "sns.boxplot(data = data, x=\"WEIGHTED_SCORE\", y=\"DAILY_STRESS\", orient = \"h\").set(title = \"Relationship between Daily Stress Level and weighted Healthy Mind Score\", xlabel = \"Healthy Mind Score\", ylabel = \"Daily Stress Level\")\n",
    "\n",
    "#plt.savefig('../images/rq01_1.png', bbox_inches='tight')"
   ]
  },
  {
   "cell_type": "markdown",
   "metadata": {},
   "source": [
    "##### Observations\n",
    "* Higher Healthy Mind Score, lower Daily Stress Level.\n",
    "* It implies that Healthy Mind is related with low Daily Stress Level."
   ]
  },
  {
   "cell_type": "code",
   "execution_count": null,
   "metadata": {},
   "outputs": [],
   "source": [
    "# Creat Box plot to explore distribution and relationship with DV of each catetory.\n",
    "plt.rcParams[\"figure.figsize\"] = [10.00, 4.50]\n",
    "plt.rcParams[\"figure.autolayout\"] = True\n",
    "fig, axes = plt.subplots(1, 3)\n",
    "fig.suptitle(\"Relationship between Weekly Meditation, Flow, and Daily Shouting and Daily Stress Level\")\n",
    "sns.boxplot(data = data, x = \"WEEKLY_MEDITATION\", y = \"DAILY_STRESS\", ax=axes[0], orient = 'h').set(xlabel = \"Number of Weekly Meditation\", ylabel = \"Daily Stress Level\")\n",
    "sns.boxplot(data = data, x = \"FLOW\", y = \"DAILY_STRESS\", ax=axes[1], orient = 'h').set(xlabel = \"Number of Flow\", ylabel = \"\")\n",
    "sns.boxplot(data = data, x = \"DAILY_SHOUTING\", y = \"DAILY_STRESS\", ax=axes[2], orient = 'h').set(xlabel = \"Number of Daily Shouting\", ylabel = \"\")"
   ]
  },
  {
   "cell_type": "markdown",
   "metadata": {},
   "source": [
    "##### Observations\n",
    "* There is no outliers in WEEKLY MEDITATION column.\n",
    "* There is few ourliers in FLOW and DAILY SHOUTING columns. \n",
    "* In WEEKLY MEDITATION column, DAILY STRESS 0 has widest variation among the values.\n",
    "* In DAILY SHOUTING column, DAILY STRESS 5 has widest variation among the values.\n",
    "* As people do more number of weekly meditation, lower daily stress level exhibit.\n",
    "* There is no significant relationship exhibit between number of flow state and daily stress level.\n",
    "* As people shout less tme, lower daily stress elvel exhibit."
   ]
  },
  {
   "cell_type": "code",
   "execution_count": null,
   "metadata": {},
   "outputs": [],
   "source": [
    "import warnings\n",
    "warnings.filterwarnings('ignore')"
   ]
  },
  {
   "cell_type": "code",
   "execution_count": null,
   "metadata": {},
   "outputs": [],
   "source": [
    "corr = data.corr()\n",
    "sns.set_theme(font_scale = 0.8)\n",
    "sns.heatmap(corr, xticklabels=corr.columns, yticklabels=corr.columns, annot=True, cmap=sns.diverging_palette(220, 20, as_cmap=True))\n",
    "plt.suptitle(\"Correlation Matrix between all variables\")\n",
    "\n",
    "#plt.savefig('../images/rq01_2.png', bbox_inches='tight')"
   ]
  },
  {
   "cell_type": "markdown",
   "metadata": {},
   "source": [
    "##### Observations\n",
    "* DAILY STRESS and FLOW are negatively correlated (r = -0.13). It means that the lower stress level, the higher flow state.\n",
    "* DAILY STRESS and WEEKLY MEDITATION are negatively correlated (r = -0.22). It means that the lower stress level, the higher amount of doing weekly meditation.\n",
    "* DAILY STRESS AND DAILY SHOUTING is positively correlated (r = 0.3). It means that the lower stress level, the lower amount of shouting in a day.\n",
    "* Amongh 3 variables, FLOW, DAILY SHOUTING, WEEKLY MEDITATION, DAILY_SHOUTING has highest correlation with DAILY_STRESS with correlation coefficient of 0.3."
   ]
  },
  {
   "cell_type": "code",
   "execution_count": null,
   "metadata": {},
   "outputs": [],
   "source": [
    "# Create bar graph to see average IVs in each DV value (0, 1, 2, 3, 4, 5) based on gender\n",
    "sns.set_theme(style = \"white\", palette = \"Set2\")\n",
    "plt.rcParams[\"figure.figsize\"] = [10.00, 4.50]\n",
    "plt.rcParams[\"figure.autolayout\"] = True\n",
    "fig, axes = plt.subplots(1, 3)\n",
    "fig.suptitle(\"Relationship between Weekly Meditation, Flow, and Daily Shouting and Daily Stress Level based on Gender\")\n",
    "\n",
    "bar1 = sns.barplot(data = data, y = \"WEEKLY_MEDITATION\", x = \"DAILY_STRESS\", ax=axes[0], hue = \"GENDER\")\n",
    "bar1.get_legend().remove()\n",
    "bar1.set(ylabel = \"Number of Weekly Meditation\", xlabel = \"Daily Stress Level\")\n",
    "\n",
    "bar2 = sns.barplot(data = data, y = \"FLOW\", x = \"DAILY_STRESS\", ax=axes[1], hue = \"GENDER\")\n",
    "bar2.get_legend().remove()\n",
    "bar2.set(ylabel = \"Number of Flow\", xlabel = \"Daily Stress Level\")\n",
    "\n",
    "bar3 = sns.barplot(data = data, y = \"DAILY_SHOUTING\", x = \"DAILY_STRESS\", ax=axes[2], hue = \"GENDER\")\n",
    "bar3.set(ylabel = \"Number of Daily Shouting\", xlabel = \"Daily Stress Level\")\n",
    "bar3.legend(bbox_to_anchor= (1.05, 0.6))\n",
    "\n",
    "#plt.savefig('../images/rq01_3.png', bbox_inches='tight')"
   ]
  },
  {
   "cell_type": "markdown",
   "metadata": {},
   "source": [
    "##### Observations\n",
    "* In the relationship between number of weekly meditation and daily stress level, male reported more number of weekly meditation than female throughout the daily stress levels.\n",
    "* In the relationship between nummber of flow state and daily stress level, female reported more number of flow state than male from daily stress level of 1 to 5. In daily stress level of 0, male reported more number of flow state than female.\n",
    "* In the relationship between number of daily shouting and daily stress level, female reported more number of daily shouting than male through the daily stress levels."
   ]
  },
  {
   "cell_type": "code",
   "execution_count": null,
   "metadata": {},
   "outputs": [],
   "source": [
    "# Create bar graph to see the relationship between IVs and DVs based on Age\n",
    "sns.set_theme(style = \"white\", palette = \"Set1\")\n",
    "plt.rcParams[\"figure.figsize\"] = [8, 10]\n",
    "plt.rcParams[\"figure.autolayout\"] = True\n",
    "fig, axes = plt.subplots(3, 1)\n",
    "fig.suptitle(\"Relationship between Weekly Meditation, Flow, and Daily Shouting and Daily Stress Level based on Age Group\")\n",
    "\n",
    "bar_age1 = sns.barplot(data = data, y = \"WEEKLY_MEDITATION\", x = \"DAILY_STRESS\", hue = \"AGE\", ax=axes[0], hue_order = [\"Less than 20\", \"21 to 35\", \"36 to 50\", \"51 or more\"])\n",
    "bar_age1.get_legend().remove()\n",
    "bar_age1.set(xlabel = \"Number of Weekly Meditation\", ylabel = \"Daily Stress Level\")\n",
    "\n",
    "bar_age2 = sns.barplot(data = data, y = \"FLOW\", x = \"DAILY_STRESS\", hue = \"AGE\", ax=axes[1], hue_order = [\"Less than 20\", \"21 to 35\", \"36 to 50\", \"51 or more\"])\n",
    "bar_age2.set(xlabel = \"Number of Flow\", ylabel = \"Daily Stress Level\")\n",
    "bar_age2.legend(bbox_to_anchor= (1.05, 0.8))\n",
    "\n",
    "bar_age3 = sns.barplot(data = data, y = \"DAILY_SHOUTING\", x = \"DAILY_STRESS\", hue = \"AGE\", ax=axes[2], hue_order = [\"Less than 20\", \"21 to 35\", \"36 to 50\", \"51 or more\"])\n",
    "bar_age3.get_legend().remove()\n",
    "bar_age3.set(xlabel = \"Number of Daily Shouting\", ylabel = \"Daily Stress Level\")\n",
    "\n",
    "#plt.savefig('../images/rq01_4.png', bbox_inches='tight')"
   ]
  },
  {
   "cell_type": "markdown",
   "metadata": {},
   "source": [
    "##### Observations\n",
    "* In the relationship between number of weekly meditation and daily stress level, age group of '51 or more' always reported highest number of weekly meditation level among age groups throughout the all daily stress levels. \n",
    "* In the relationship between nummber of flow state and daily stress level, all age groups reported similar number of flow state throughout the all daily stress levels.\n",
    "* In the relationship between number of daily shouting and daily stress level, age group of '51 or more' reported lowest number of daily shouting among age groups throughout the all daily stress levels."
   ]
  },
  {
   "cell_type": "markdown",
   "metadata": {},
   "source": [
    "### Conclusion\n",
    "It can be concluded that variables in healthy mind dimension help to maintain low stress level and among all three variables, the number of daily shouting shows the strongest correlation with daily stress level. Among the relationship between 3 variables, there was no significant gender difference found but some age groups shows higher value than other groups in some relationship."
   ]
  }
 ],
 "metadata": {
  "kernelspec": {
   "display_name": "Python 3 (ipykernel)",
   "language": "python",
   "name": "python3"
  },
  "language_info": {
   "codemirror_mode": {
    "name": "ipython",
    "version": 3
   },
   "file_extension": ".py",
   "mimetype": "text/x-python",
   "name": "python",
   "nbconvert_exporter": "python",
   "pygments_lexer": "ipython3",
   "version": "3.10.8"
  }
 },
 "nbformat": 4,
 "nbformat_minor": 4
}
