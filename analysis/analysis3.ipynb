{
 "cells": [
  {
   "cell_type": "markdown",
   "metadata": {},
   "source": [
    "# Melur Erwina binti Mohamad Iskandar"
   ]
  },
  {
   "cell_type": "markdown",
   "metadata": {},
   "source": [
    "## Research question/interests\n",
    "\n",
    "**Is being self-sufficient the main core of self-care in leading a thriving life?**\n",
    "\n",
    "This research question is exploring to find out if physical health is the foundation for a healthy mind. I'm assuming that a person who is able to take care of oneself would have a great self-discipline in navigating life, hence will be better in being productive in daily life. As the concept of healthy body equals to healthy mind, I’m planning to compare factors that constitute to physical health (Sleep_Hours, BMI, Fruit_veggies, Daily_Steps) to healthy mind factors (Todo_complete, Daily_stress).\n",
    "\n",
    "### Analysis Plan:\n",
    "1. I would only keep the columns of the factors  I’m interested in (Sleep_Hours, BMI_range, Fruit_veggies, Daily Steps, Todo_complete, Daily_stress) and demographic (Gender) for observation purposes.\n",
    "1. I will then remove rows that contain Na values to draw a more solid observation and apply the dataframe describe function for an overview of the data.\n",
    "1. Then, I would observe the distribution of (Fruit_veggies and  Daily_Steps) to (BMI_range) as a measure of healthy body, and distribution of (sleep_hours and BMI_range) to (todo_complete) to see if self-sufficient will drive motivation to accomplish things in life.\n",
    "1. I will then observe the correlation between (todo_complete and daily_stress) to conclude whether an orderly and productive life would impose less stress and (BMI_range) to (daily_stress) to see if healthy lifestyle will lead to healthy mind."
   ]
  },
  {
   "cell_type": "markdown",
   "metadata": {},
   "source": [
    "## Loading Dataset"
   ]
  },
  {
   "cell_type": "code",
   "execution_count": null,
   "metadata": {},
   "outputs": [],
   "source": [
    "import pandas as pd\n",
    "import numpy as np\n",
    "import matplotlib.pyplot as plt\n",
    "import seaborn as sns"
   ]
  },
  {
   "cell_type": "code",
   "execution_count": null,
   "metadata": {},
   "outputs": [],
   "source": [
    "df = pd.read_csv(\"../data/raw/Wellbeing_and_lifestyle_data_Kaggle.csv\")\n",
    "df"
   ]
  },
  {
   "cell_type": "markdown",
   "metadata": {},
   "source": [
    "## Milestone 3"
   ]
  },
  {
   "cell_type": "markdown",
   "metadata": {},
   "source": [
    "### Task 1: Conduct an Exploratory Data Analysis (EDA) on your datase"
   ]
  },
  {
   "cell_type": "code",
   "execution_count": null,
   "metadata": {},
   "outputs": [],
   "source": [
    "dfa = df[[\"SLEEP_HOURS\", \"BMI_RANGE\", \"FRUITS_VEGGIES\", \"DAILY_STEPS\", \"TODO_COMPLETED\", \"DAILY_STRESS\", \"GENDER\"]]\n",
    "dfa"
   ]
  },
  {
   "cell_type": "code",
   "execution_count": null,
   "metadata": {},
   "outputs": [],
   "source": [
    "dfa.head()"
   ]
  },
  {
   "cell_type": "code",
   "execution_count": null,
   "metadata": {},
   "outputs": [],
   "source": [
    "dfa.dropna()"
   ]
  },
  {
   "cell_type": "markdown",
   "metadata": {},
   "source": [
    "### Observation\n",
    "- No NaN values recorded for the focused columns in the dataframe."
   ]
  },
  {
   "cell_type": "code",
   "execution_count": null,
   "metadata": {},
   "outputs": [],
   "source": [
    "dfa.describe(include='number').T"
   ]
  },
  {
   "cell_type": "code",
   "execution_count": null,
   "metadata": {},
   "outputs": [],
   "source": [
    "dfa.describe(exclude='number').T"
   ]
  },
  {
   "cell_type": "markdown",
   "metadata": {},
   "source": [
    "### Observation\n",
    "- This table shows that there are 7 unique values of Daily Stress variables when in fact there are only 6 levels option of answers.\n",
    "- This means that there is an unwanted value in the dataframe column.\n",
    "- Therefore, this value must be recognised and dropped."
   ]
  },
  {
   "cell_type": "code",
   "execution_count": null,
   "metadata": {},
   "outputs": [],
   "source": [
    "dfa[\"DAILY_STRESS\"].unique()"
   ]
  },
  {
   "cell_type": "code",
   "execution_count": null,
   "metadata": {},
   "outputs": [],
   "source": [
    "dfa.loc[dfa[\"DAILY_STRESS\"]==\"1/1/00\"]"
   ]
  },
  {
   "cell_type": "code",
   "execution_count": null,
   "metadata": {},
   "outputs": [],
   "source": [
    "dfa = dfa.drop([10005]).reset_index(drop=True)\n",
    "dfa"
   ]
  },
  {
   "cell_type": "markdown",
   "metadata": {},
   "source": [
    "### Observation\n",
    "- One row is dropped from the dataframe due to an illogical value in Daily Stress column leaving 15971 rows."
   ]
  },
  {
   "cell_type": "code",
   "execution_count": null,
   "metadata": {},
   "outputs": [],
   "source": [
    "dfa.describe(exclude='number').T"
   ]
  },
  {
   "cell_type": "code",
   "execution_count": null,
   "metadata": {},
   "outputs": [],
   "source": [
    "dfa[\"DAILY_STRESS\"] = pd.to_numeric(dfa[\"DAILY_STRESS\"])"
   ]
  },
  {
   "cell_type": "code",
   "execution_count": null,
   "metadata": {},
   "outputs": [],
   "source": [
    "dfa[\"BMI_RANGE\"].astype('category', copy=False)"
   ]
  },
  {
   "cell_type": "markdown",
   "metadata": {},
   "source": [
    "### Observation\n",
    "- Change column **BMI_RANGE** and **TODO_COMPLETED** to categorical so the variable can be used as hue when plotting graphs. to be excluded from calulated numerically."
   ]
  },
  {
   "cell_type": "markdown",
   "metadata": {},
   "source": [
    "### Data Visualisation"
   ]
  },
  {
   "cell_type": "code",
   "execution_count": null,
   "metadata": {},
   "outputs": [],
   "source": [
    "sns.lineplot(x=\"DAILY_STEPS\", y=\"FRUITS_VEGGIES\",\n",
    "             hue=\"BMI_RANGE\", palette=\"muted\",\n",
    "             data=dfa)"
   ]
  },
  {
   "cell_type": "markdown",
   "metadata": {},
   "source": [
    "### Observation\n",
    "- The line graph shows that at each amount of daily steps, higher intake of fruits and vegetables result in lower BMI range (1; below 25 BMI count)\n",
    "- This indicates that that fruits and vegetables plays a bigger role than daily steps in contributing to BMI index."
   ]
  },
  {
   "cell_type": "code",
   "execution_count": null,
   "metadata": {},
   "outputs": [],
   "source": [
    "g = sns.catplot(\n",
    "    data=dfa, x=\"DAILY_STEPS\", y=\"FRUITS_VEGGIES\",\n",
    "    hue=\"BMI_RANGE\", palette=\"muted\", col=\"GENDER\",\n",
    "    capsize=.2, errorbar=\"se\",\n",
    "    kind=\"point\", height=6, aspect=.75,\n",
    ")\n",
    "g.despine(left=True)"
   ]
  },
  {
   "cell_type": "code",
   "execution_count": null,
   "metadata": {},
   "outputs": [],
   "source": [
    "sns.lineplot(data=dfa, x=\"DAILY_STEPS\", y=\"FRUITS_VEGGIES\",\n",
    "    hue=\"BMI_RANGE\", palette=\"muted\", col=\"GENDER\",\n",
    "    capsize=.2, errorbar=\"se\",\n",
    "    kind=\"point\", height=6, aspect=.75,"
   ]
  },
  {
   "cell_type": "markdown",
   "metadata": {},
   "source": [
    "### Observation\n",
    "- Demographically. Male eat less fruits and vegetables than female.\n"
   ]
  },
  {
   "cell_type": "code",
   "execution_count": null,
   "metadata": {},
   "outputs": [],
   "source": [
    "sns.catplot(\n",
    "    data=dfa, kind=\"bar\",\n",
    "    x=\"SLEEP_HOURS\", y=\"TODO_COMPLETED\", hue=\"BMI_RANGE\", palette=\"dark\")"
   ]
  },
  {
   "cell_type": "markdown",
   "metadata": {},
   "source": [
    "### Observation\n",
    "- Overall, BMI_RANGE level 1 (lower BMI count: not overweight) has higher completed task than BMI_RANGE level 2.\n",
    "- The completed task increase as sleep hours increases from 1 to 8, then decrease as sleep hours go beyond 8.\n",
    "- This graph shows that 8 hours of sleep with level 1 of BMI_RANGE has the highest productivity in daily life measured by how well one complete their tasks, followed by level 2 of BMI_RANGE, although not by much difference.\n",
    "- This indicates that the ability to take care of oneself (optimum hours of sleep and BMI range) determine the level of productivity in daily as driven by self-discipline."
   ]
  },
  {
   "cell_type": "code",
   "execution_count": null,
   "metadata": {},
   "outputs": [],
   "source": [
    "g = sns.catplot(dfa, x=\"SLEEP_HOURS\", y=\"TODO_COMPLETED\", hue=\"BMI_RANGE\",\n",
    "    palette=\"muted\", col=\"GENDER\", kind=\"bar\"\n",
    ")\n",
    "g.despine(left=True)"
   ]
  },
  {
   "cell_type": "markdown",
   "metadata": {},
   "source": [
    "### Observation\n",
    "- Completed task peak at 8 hours of sleep for female and at 7 hours of sleep for male."
   ]
  },
  {
   "cell_type": "code",
   "execution_count": null,
   "metadata": {},
   "outputs": [],
   "source": [
    "s = sns.boxplot(data=dfa, x=\"BMI_RANGE\", y=\"DAILY_STRESS\", hue=\"GENDER\")\n",
    "sns.move_legend(s, \"upper left\", bbox_to_anchor=(1, 1))"
   ]
  },
  {
   "cell_type": "markdown",
   "metadata": {},
   "source": [
    "### Observation\n",
    "- The boxplot graph shows that lower BMI count in males result in lower levels of daily stress compared to female."
   ]
  },
  {
   "cell_type": "code",
   "execution_count": null,
   "metadata": {},
   "outputs": [],
   "source": [
    "sns.displot(\n",
    "    dfa, x=\"DAILY_STRESS\", col=\"GENDER\", row=\"BMI_RANGE\",\n",
    "    binwidth=3, height=3, facet_kws=dict(margin_titles=True),\n",
    ")"
   ]
  },
  {
   "cell_type": "code",
   "execution_count": null,
   "metadata": {},
   "outputs": [],
   "source": [
    "sns.countplot(data=dfa, x=\"DAILY_STRESS\", hue=\"GENDER\")"
   ]
  },
  {
   "cell_type": "code",
   "execution_count": null,
   "metadata": {},
   "outputs": [],
   "source": [
    "sns."
   ]
  },
  {
   "cell_type": "code",
   "execution_count": null,
   "metadata": {},
   "outputs": [],
   "source": [
    "b = sns.boxplot(x=\"TODO_COMPLETED\", y=\"DAILY_STRESS\", hue=\"GENDER\",\n",
    "           palette=[\"m\", \"g\"],\n",
    "            data=dfa)\n",
    "sns.despine(offset=10, trim=True)\n",
    "sns.move_legend(b, \"upper left\", bbox_to_anchor=(1, 1))"
   ]
  },
  {
   "cell_type": "markdown",
   "metadata": {},
   "source": [
    "### Observation\n",
    "- The boxplot graph shows that having more completed task result in lower levels of daily stress in males while females shown to retain the stress level regardless of increase in number of completed task.\n",
    "- Only at the highest number of completed task does females shown a bigger range with lower level of daily stress."
   ]
  },
  {
   "cell_type": "code",
   "execution_count": null,
   "metadata": {},
   "outputs": [],
   "source": [
    "sns.displot(\n",
    "    dfa, x=\"TODO_COMPLETED\", col=\"DAILY_STRESS\", row=\"GENDER\", kind=\"hist\",\n",
    "    binwidth=3, height=3, facet_kws=dict(margin_titles=True),\n",
    ")"
   ]
  },
  {
   "cell_type": "markdown",
   "metadata": {},
   "source": [
    "#### Next Analysis\n",
    "- More details on dissection of data visualisation"
   ]
  },
  {
   "cell_type": "markdown",
   "metadata": {},
   "source": [
    "## Milestone 4"
   ]
  },
  {
   "cell_type": "markdown",
   "metadata": {},
   "source": [
    "### Task 1: Set up an “Analysis Pipeline”"
   ]
  },
  {
   "cell_type": "code",
   "execution_count": 1,
   "metadata": {},
   "outputs": [],
   "source": [
    "import pandas as pd\n",
    "import numpy as np\n",
    "import matplotlib.pyplot as plt\n",
    "import seaborn as sns"
   ]
  },
  {
   "cell_type": "code",
   "execution_count": 2,
   "metadata": {},
   "outputs": [
    {
     "ename": "NameError",
     "evalue": "name 'null' is not defined",
     "output_type": "error",
     "traceback": [
      "\u001b[1;31m---------------------------------------------------------------------------\u001b[0m",
      "\u001b[1;31mNameError\u001b[0m                                 Traceback (most recent call last)",
      "Cell \u001b[1;32mIn[2], line 3\u001b[0m\n\u001b[0;32m      1\u001b[0m \u001b[38;5;28;01mimport\u001b[39;00m \u001b[38;5;21;01msys\u001b[39;00m\n\u001b[0;32m      2\u001b[0m sys\u001b[38;5;241m.\u001b[39mpath\u001b[38;5;241m.\u001b[39mappend(\u001b[38;5;124m\"\u001b[39m\u001b[38;5;124mcode\u001b[39m\u001b[38;5;124m\"\u001b[39m)\n\u001b[1;32m----> 3\u001b[0m \u001b[38;5;28;01mfrom\u001b[39;00m \u001b[38;5;21;01mproject_functions3\u001b[39;00m \u001b[38;5;28;01mimport\u001b[39;00m load_and_process\n\u001b[0;32m      5\u001b[0m dfc \u001b[38;5;241m=\u001b[39m load_and_process(\u001b[38;5;124m\"\u001b[39m\u001b[38;5;124m../data/raw/Wellbeing_and_lifestyle_data_Kaggle.csv\u001b[39m\u001b[38;5;124m\"\u001b[39m)\n",
      "File \u001b[1;32m~\\Documents\\UBC\\DATA 301\\project-group-group06\\analysis\\code\\project_functions3.py:51\u001b[0m\n\u001b[0;32m      1\u001b[0m {\n\u001b[0;32m      2\u001b[0m  \u001b[38;5;124m\"\u001b[39m\u001b[38;5;124mcells\u001b[39m\u001b[38;5;124m\"\u001b[39m: [\n\u001b[0;32m      3\u001b[0m   {\n\u001b[0;32m      4\u001b[0m    \u001b[38;5;124m\"\u001b[39m\u001b[38;5;124mcell_type\u001b[39m\u001b[38;5;124m\"\u001b[39m: \u001b[38;5;124m\"\u001b[39m\u001b[38;5;124mcode\u001b[39m\u001b[38;5;124m\"\u001b[39m,\n\u001b[0;32m      5\u001b[0m    \u001b[38;5;124m\"\u001b[39m\u001b[38;5;124mexecution_count\u001b[39m\u001b[38;5;124m\"\u001b[39m: \u001b[38;5;241m1\u001b[39m,\n\u001b[0;32m      6\u001b[0m    \u001b[38;5;124m\"\u001b[39m\u001b[38;5;124mid\u001b[39m\u001b[38;5;124m\"\u001b[39m: \u001b[38;5;124m\"\u001b[39m\u001b[38;5;124m763543fc-32b2-46e3-964c-8293dd560f20\u001b[39m\u001b[38;5;124m\"\u001b[39m,\n\u001b[0;32m      7\u001b[0m    \u001b[38;5;124m\"\u001b[39m\u001b[38;5;124mmetadata\u001b[39m\u001b[38;5;124m\"\u001b[39m: {},\n\u001b[0;32m      8\u001b[0m    \u001b[38;5;124m\"\u001b[39m\u001b[38;5;124moutputs\u001b[39m\u001b[38;5;124m\"\u001b[39m: [],\n\u001b[0;32m      9\u001b[0m    \u001b[38;5;124m\"\u001b[39m\u001b[38;5;124msource\u001b[39m\u001b[38;5;124m\"\u001b[39m: [\n\u001b[0;32m     10\u001b[0m     \u001b[38;5;124m\"\u001b[39m\u001b[38;5;124mimport pandas as pd\u001b[39m\u001b[38;5;124m\"\u001b[39m\n\u001b[0;32m     11\u001b[0m    ]\n\u001b[0;32m     12\u001b[0m   },\n\u001b[0;32m     13\u001b[0m   {\n\u001b[0;32m     14\u001b[0m    \u001b[38;5;124m\"\u001b[39m\u001b[38;5;124mcell_type\u001b[39m\u001b[38;5;124m\"\u001b[39m: \u001b[38;5;124m\"\u001b[39m\u001b[38;5;124mcode\u001b[39m\u001b[38;5;124m\"\u001b[39m,\n\u001b[0;32m     15\u001b[0m    \u001b[38;5;124m\"\u001b[39m\u001b[38;5;124mexecution_count\u001b[39m\u001b[38;5;124m\"\u001b[39m: \u001b[38;5;241m2\u001b[39m,\n\u001b[0;32m     16\u001b[0m    \u001b[38;5;124m\"\u001b[39m\u001b[38;5;124mid\u001b[39m\u001b[38;5;124m\"\u001b[39m: \u001b[38;5;124m\"\u001b[39m\u001b[38;5;124m0249de78-5dbe-4847-9971-16819ac8abdb\u001b[39m\u001b[38;5;124m\"\u001b[39m,\n\u001b[0;32m     17\u001b[0m    \u001b[38;5;124m\"\u001b[39m\u001b[38;5;124mmetadata\u001b[39m\u001b[38;5;124m\"\u001b[39m: {},\n\u001b[0;32m     18\u001b[0m    \u001b[38;5;124m\"\u001b[39m\u001b[38;5;124moutputs\u001b[39m\u001b[38;5;124m\"\u001b[39m: [],\n\u001b[0;32m     19\u001b[0m    \u001b[38;5;124m\"\u001b[39m\u001b[38;5;124msource\u001b[39m\u001b[38;5;124m\"\u001b[39m: [\n\u001b[0;32m     20\u001b[0m     \u001b[38;5;124m\"\u001b[39m\u001b[38;5;124mdef load_and_process(url_or_path_to_csv_file):\u001b[39m\u001b[38;5;130;01m\\n\u001b[39;00m\u001b[38;5;124m\"\u001b[39m,\n\u001b[0;32m     21\u001b[0m     \u001b[38;5;124m\"\u001b[39m\u001b[38;5;130;01m\\n\u001b[39;00m\u001b[38;5;124m\"\u001b[39m,\n\u001b[0;32m     22\u001b[0m     \u001b[38;5;124m\"\u001b[39m\u001b[38;5;124m    # Method Chain 1 (Load data and deal with missing data)\u001b[39m\u001b[38;5;130;01m\\n\u001b[39;00m\u001b[38;5;124m\"\u001b[39m,\n\u001b[0;32m     23\u001b[0m     \u001b[38;5;124m\"\u001b[39m\u001b[38;5;130;01m\\n\u001b[39;00m\u001b[38;5;124m\"\u001b[39m,\n\u001b[0;32m     24\u001b[0m     \u001b[38;5;124m\"\u001b[39m\u001b[38;5;124m    df1 = (\u001b[39m\u001b[38;5;130;01m\\n\u001b[39;00m\u001b[38;5;124m\"\u001b[39m,\n\u001b[0;32m     25\u001b[0m     \u001b[38;5;124m\"\u001b[39m\u001b[38;5;124m          pd.read_csv(url_or_path_to_csv_file)\u001b[39m\u001b[38;5;130;01m\\n\u001b[39;00m\u001b[38;5;124m\"\u001b[39m,\n\u001b[0;32m     26\u001b[0m     \u001b[38;5;124m\"\u001b[39m\u001b[38;5;124m          .dropna()\u001b[39m\u001b[38;5;130;01m\\n\u001b[39;00m\u001b[38;5;124m\"\u001b[39m,\n\u001b[0;32m     27\u001b[0m     \u001b[38;5;124m\"\u001b[39m\u001b[38;5;124m          .drop([10005]) # data in index 10005 column DAILY_STRESS is irrelevent, so the row is dropped.\u001b[39m\u001b[38;5;130;01m\\n\u001b[39;00m\u001b[38;5;124m\"\u001b[39m,\n\u001b[0;32m     28\u001b[0m     \u001b[38;5;124m\"\u001b[39m\u001b[38;5;124m      )\u001b[39m\u001b[38;5;130;01m\\n\u001b[39;00m\u001b[38;5;124m\"\u001b[39m,\n\u001b[0;32m     29\u001b[0m     \u001b[38;5;124m\"\u001b[39m\u001b[38;5;130;01m\\n\u001b[39;00m\u001b[38;5;124m\"\u001b[39m,\n\u001b[0;32m     30\u001b[0m     \u001b[38;5;124m\"\u001b[39m\u001b[38;5;124m    # Method Chain 2 (Clean data by drop unrelated columns, drop others, and do processing)\u001b[39m\u001b[38;5;130;01m\\n\u001b[39;00m\u001b[38;5;124m\"\u001b[39m,\n\u001b[0;32m     31\u001b[0m     \u001b[38;5;124m\"\u001b[39m\u001b[38;5;130;01m\\n\u001b[39;00m\u001b[38;5;124m\"\u001b[39m,\n\u001b[0;32m     32\u001b[0m     \u001b[38;5;124m\"\u001b[39m\u001b[38;5;124m    df2 = (\u001b[39m\u001b[38;5;130;01m\\n\u001b[39;00m\u001b[38;5;124m\"\u001b[39m,\n\u001b[0;32m     33\u001b[0m     \u001b[38;5;124m\"\u001b[39m\u001b[38;5;124m          df1\u001b[39m\u001b[38;5;130;01m\\n\u001b[39;00m\u001b[38;5;124m\"\u001b[39m,\n\u001b[0;32m     34\u001b[0m     \u001b[38;5;124m\"\u001b[39m\u001b[38;5;124m          .drop(columns=[\u001b[39m\u001b[38;5;130;01m\\\"\u001b[39;00m\u001b[38;5;124mPLACES_VISITED\u001b[39m\u001b[38;5;130;01m\\\"\u001b[39;00m\u001b[38;5;124m, \u001b[39m\u001b[38;5;130;01m\\\"\u001b[39;00m\u001b[38;5;124mCORE_CIRCLE\u001b[39m\u001b[38;5;130;01m\\\"\u001b[39;00m\u001b[38;5;124m, \u001b[39m\u001b[38;5;130;01m\\\"\u001b[39;00m\u001b[38;5;124mSUPPORTING_OTHERS\u001b[39m\u001b[38;5;130;01m\\\"\u001b[39;00m\u001b[38;5;124m, \u001b[39m\u001b[38;5;130;01m\\n\u001b[39;00m\u001b[38;5;124m\"\u001b[39m,\n\u001b[0;32m     35\u001b[0m     \u001b[38;5;124m\"\u001b[39m\u001b[38;5;124m                         \u001b[39m\u001b[38;5;130;01m\\\"\u001b[39;00m\u001b[38;5;124mSOCIAL_NETWORK\u001b[39m\u001b[38;5;130;01m\\\"\u001b[39;00m\u001b[38;5;124m, \u001b[39m\u001b[38;5;130;01m\\\"\u001b[39;00m\u001b[38;5;124mACHIEVEMENT\u001b[39m\u001b[38;5;130;01m\\\"\u001b[39;00m\u001b[38;5;124m, \u001b[39m\u001b[38;5;130;01m\\\"\u001b[39;00m\u001b[38;5;124mDONATION\u001b[39m\u001b[38;5;130;01m\\\"\u001b[39;00m\u001b[38;5;124m, \u001b[39m\u001b[38;5;130;01m\\\"\u001b[39;00m\u001b[38;5;124mLOST_VACATION\u001b[39m\u001b[38;5;130;01m\\\"\u001b[39;00m\u001b[38;5;124m, \u001b[39m\u001b[38;5;130;01m\\n\u001b[39;00m\u001b[38;5;124m\"\u001b[39m,\n\u001b[0;32m     36\u001b[0m     \u001b[38;5;124m\"\u001b[39m\u001b[38;5;124m                         \u001b[39m\u001b[38;5;130;01m\\\"\u001b[39;00m\u001b[38;5;124mDAILY_SHOUTING\u001b[39m\u001b[38;5;130;01m\\\"\u001b[39;00m\u001b[38;5;124m, \u001b[39m\u001b[38;5;130;01m\\\"\u001b[39;00m\u001b[38;5;124mSUFFICIENT_INCOME\u001b[39m\u001b[38;5;130;01m\\\"\u001b[39;00m\u001b[38;5;124m, \u001b[39m\u001b[38;5;130;01m\\\"\u001b[39;00m\u001b[38;5;124mPERSONAL_AWARDS\u001b[39m\u001b[38;5;130;01m\\\"\u001b[39;00m\u001b[38;5;124m, \u001b[39m\u001b[38;5;130;01m\\\"\u001b[39;00m\u001b[38;5;124mTIME_FOR_PASSION\u001b[39m\u001b[38;5;130;01m\\\"\u001b[39;00m\u001b[38;5;124m, \u001b[39m\u001b[38;5;130;01m\\n\u001b[39;00m\u001b[38;5;124m\"\u001b[39m,\n\u001b[0;32m     37\u001b[0m     \u001b[38;5;124m\"\u001b[39m\u001b[38;5;124m                         \u001b[39m\u001b[38;5;130;01m\\\"\u001b[39;00m\u001b[38;5;124mWEEKLY_MEDITATION\u001b[39m\u001b[38;5;130;01m\\\"\u001b[39;00m\u001b[38;5;124m, \u001b[39m\u001b[38;5;130;01m\\\"\u001b[39;00m\u001b[38;5;124mAGE\u001b[39m\u001b[38;5;130;01m\\\"\u001b[39;00m\u001b[38;5;124m, \u001b[39m\u001b[38;5;130;01m\\\"\u001b[39;00m\u001b[38;5;124mWORK_LIFE_BALANCE_SCORE\u001b[39m\u001b[38;5;130;01m\\\"\u001b[39;00m\u001b[38;5;124m, \u001b[39m\u001b[38;5;130;01m\\\"\u001b[39;00m\u001b[38;5;124mFLOW\u001b[39m\u001b[38;5;130;01m\\\"\u001b[39;00m\u001b[38;5;124m, \u001b[39m\u001b[38;5;130;01m\\\"\u001b[39;00m\u001b[38;5;124mLIVE_VISION\u001b[39m\u001b[38;5;130;01m\\\"\u001b[39;00m\u001b[38;5;124m, \u001b[39m\u001b[38;5;130;01m\\n\u001b[39;00m\u001b[38;5;124m\"\u001b[39m,\n\u001b[0;32m     38\u001b[0m     \u001b[38;5;124m\"\u001b[39m\u001b[38;5;124m                         \u001b[39m\u001b[38;5;130;01m\\\"\u001b[39;00m\u001b[38;5;124mTimestamp\u001b[39m\u001b[38;5;130;01m\\\"\u001b[39;00m\u001b[38;5;124m])\u001b[39m\u001b[38;5;130;01m\\n\u001b[39;00m\u001b[38;5;124m\"\u001b[39m,\n\u001b[0;32m     39\u001b[0m     \u001b[38;5;124m\"\u001b[39m\u001b[38;5;124m          .assign(BMI_RANGE = lambda x: x[\u001b[39m\u001b[38;5;124m'\u001b[39m\u001b[38;5;124mBMI_RANGE\u001b[39m\u001b[38;5;124m'\u001b[39m\u001b[38;5;124m].astype(object), \u001b[39m\u001b[38;5;130;01m\\n\u001b[39;00m\u001b[38;5;124m\"\u001b[39m,\n\u001b[0;32m     40\u001b[0m     \u001b[38;5;124m\"\u001b[39m\u001b[38;5;124m                  TODO_COMPLETED = lambda x: x[\u001b[39m\u001b[38;5;124m'\u001b[39m\u001b[38;5;124mTODO_COMPLETED\u001b[39m\u001b[38;5;124m'\u001b[39m\u001b[38;5;124m].astype(object))\u001b[39m\u001b[38;5;130;01m\\n\u001b[39;00m\u001b[38;5;124m\"\u001b[39m,\n\u001b[0;32m     41\u001b[0m     \u001b[38;5;124m\"\u001b[39m\u001b[38;5;124m          .reset_index(drop=True)\u001b[39m\u001b[38;5;130;01m\\n\u001b[39;00m\u001b[38;5;124m\"\u001b[39m,\n\u001b[0;32m     42\u001b[0m     \u001b[38;5;124m\"\u001b[39m\u001b[38;5;124m      )\u001b[39m\u001b[38;5;130;01m\\n\u001b[39;00m\u001b[38;5;124m\"\u001b[39m,\n\u001b[0;32m     43\u001b[0m     \u001b[38;5;124m\"\u001b[39m\u001b[38;5;130;01m\\n\u001b[39;00m\u001b[38;5;124m\"\u001b[39m,\n\u001b[0;32m     44\u001b[0m     \u001b[38;5;124m\"\u001b[39m\u001b[38;5;124m    # Make sure to return the latest dataframe\u001b[39m\u001b[38;5;130;01m\\n\u001b[39;00m\u001b[38;5;124m\"\u001b[39m,\n\u001b[0;32m     45\u001b[0m     \u001b[38;5;124m\"\u001b[39m\u001b[38;5;130;01m\\n\u001b[39;00m\u001b[38;5;124m\"\u001b[39m,\n\u001b[0;32m     46\u001b[0m     \u001b[38;5;124m\"\u001b[39m\u001b[38;5;124m    return df2 \u001b[39m\u001b[38;5;124m\"\u001b[39m\n\u001b[0;32m     47\u001b[0m    ]\n\u001b[0;32m     48\u001b[0m   },\n\u001b[0;32m     49\u001b[0m   {\n\u001b[0;32m     50\u001b[0m    \u001b[38;5;124m\"\u001b[39m\u001b[38;5;124mcell_type\u001b[39m\u001b[38;5;124m\"\u001b[39m: \u001b[38;5;124m\"\u001b[39m\u001b[38;5;124mcode\u001b[39m\u001b[38;5;124m\"\u001b[39m,\n\u001b[1;32m---> 51\u001b[0m    \u001b[38;5;124m\"\u001b[39m\u001b[38;5;124mexecution_count\u001b[39m\u001b[38;5;124m\"\u001b[39m: \u001b[43mnull\u001b[49m,\n\u001b[0;32m     52\u001b[0m    \u001b[38;5;124m\"\u001b[39m\u001b[38;5;124mid\u001b[39m\u001b[38;5;124m\"\u001b[39m: \u001b[38;5;124m\"\u001b[39m\u001b[38;5;124ma0cbeaa7-3dbf-44dc-9002-0c441c48be45\u001b[39m\u001b[38;5;124m\"\u001b[39m,\n\u001b[0;32m     53\u001b[0m    \u001b[38;5;124m\"\u001b[39m\u001b[38;5;124mmetadata\u001b[39m\u001b[38;5;124m\"\u001b[39m: {},\n\u001b[0;32m     54\u001b[0m    \u001b[38;5;124m\"\u001b[39m\u001b[38;5;124moutputs\u001b[39m\u001b[38;5;124m\"\u001b[39m: [],\n\u001b[0;32m     55\u001b[0m    \u001b[38;5;124m\"\u001b[39m\u001b[38;5;124msource\u001b[39m\u001b[38;5;124m\"\u001b[39m: []\n\u001b[0;32m     56\u001b[0m   }\n\u001b[0;32m     57\u001b[0m  ],\n\u001b[0;32m     58\u001b[0m  \u001b[38;5;124m\"\u001b[39m\u001b[38;5;124mmetadata\u001b[39m\u001b[38;5;124m\"\u001b[39m: {\n\u001b[0;32m     59\u001b[0m   \u001b[38;5;124m\"\u001b[39m\u001b[38;5;124mkernelspec\u001b[39m\u001b[38;5;124m\"\u001b[39m: {\n\u001b[0;32m     60\u001b[0m    \u001b[38;5;124m\"\u001b[39m\u001b[38;5;124mdisplay_name\u001b[39m\u001b[38;5;124m\"\u001b[39m: \u001b[38;5;124m\"\u001b[39m\u001b[38;5;124mPython 3 (ipykernel)\u001b[39m\u001b[38;5;124m\"\u001b[39m,\n\u001b[0;32m     61\u001b[0m    \u001b[38;5;124m\"\u001b[39m\u001b[38;5;124mlanguage\u001b[39m\u001b[38;5;124m\"\u001b[39m: \u001b[38;5;124m\"\u001b[39m\u001b[38;5;124mpython\u001b[39m\u001b[38;5;124m\"\u001b[39m,\n\u001b[0;32m     62\u001b[0m    \u001b[38;5;124m\"\u001b[39m\u001b[38;5;124mname\u001b[39m\u001b[38;5;124m\"\u001b[39m: \u001b[38;5;124m\"\u001b[39m\u001b[38;5;124mpython3\u001b[39m\u001b[38;5;124m\"\u001b[39m\n\u001b[0;32m     63\u001b[0m   },\n\u001b[0;32m     64\u001b[0m   \u001b[38;5;124m\"\u001b[39m\u001b[38;5;124mlanguage_info\u001b[39m\u001b[38;5;124m\"\u001b[39m: {\n\u001b[0;32m     65\u001b[0m    \u001b[38;5;124m\"\u001b[39m\u001b[38;5;124mcodemirror_mode\u001b[39m\u001b[38;5;124m\"\u001b[39m: {\n\u001b[0;32m     66\u001b[0m     \u001b[38;5;124m\"\u001b[39m\u001b[38;5;124mname\u001b[39m\u001b[38;5;124m\"\u001b[39m: \u001b[38;5;124m\"\u001b[39m\u001b[38;5;124mipython\u001b[39m\u001b[38;5;124m\"\u001b[39m,\n\u001b[0;32m     67\u001b[0m     \u001b[38;5;124m\"\u001b[39m\u001b[38;5;124mversion\u001b[39m\u001b[38;5;124m\"\u001b[39m: \u001b[38;5;241m3\u001b[39m\n\u001b[0;32m     68\u001b[0m    },\n\u001b[0;32m     69\u001b[0m    \u001b[38;5;124m\"\u001b[39m\u001b[38;5;124mfile_extension\u001b[39m\u001b[38;5;124m\"\u001b[39m: \u001b[38;5;124m\"\u001b[39m\u001b[38;5;124m.py\u001b[39m\u001b[38;5;124m\"\u001b[39m,\n\u001b[0;32m     70\u001b[0m    \u001b[38;5;124m\"\u001b[39m\u001b[38;5;124mmimetype\u001b[39m\u001b[38;5;124m\"\u001b[39m: \u001b[38;5;124m\"\u001b[39m\u001b[38;5;124mtext/x-python\u001b[39m\u001b[38;5;124m\"\u001b[39m,\n\u001b[0;32m     71\u001b[0m    \u001b[38;5;124m\"\u001b[39m\u001b[38;5;124mname\u001b[39m\u001b[38;5;124m\"\u001b[39m: \u001b[38;5;124m\"\u001b[39m\u001b[38;5;124mpython\u001b[39m\u001b[38;5;124m\"\u001b[39m,\n\u001b[0;32m     72\u001b[0m    \u001b[38;5;124m\"\u001b[39m\u001b[38;5;124mnbconvert_exporter\u001b[39m\u001b[38;5;124m\"\u001b[39m: \u001b[38;5;124m\"\u001b[39m\u001b[38;5;124mpython\u001b[39m\u001b[38;5;124m\"\u001b[39m,\n\u001b[0;32m     73\u001b[0m    \u001b[38;5;124m\"\u001b[39m\u001b[38;5;124mpygments_lexer\u001b[39m\u001b[38;5;124m\"\u001b[39m: \u001b[38;5;124m\"\u001b[39m\u001b[38;5;124mipython3\u001b[39m\u001b[38;5;124m\"\u001b[39m,\n\u001b[0;32m     74\u001b[0m    \u001b[38;5;124m\"\u001b[39m\u001b[38;5;124mversion\u001b[39m\u001b[38;5;124m\"\u001b[39m: \u001b[38;5;124m\"\u001b[39m\u001b[38;5;124m3.10.9\u001b[39m\u001b[38;5;124m\"\u001b[39m\n\u001b[0;32m     75\u001b[0m   }\n\u001b[0;32m     76\u001b[0m  },\n\u001b[0;32m     77\u001b[0m  \u001b[38;5;124m\"\u001b[39m\u001b[38;5;124mnbformat\u001b[39m\u001b[38;5;124m\"\u001b[39m: \u001b[38;5;241m4\u001b[39m,\n\u001b[0;32m     78\u001b[0m  \u001b[38;5;124m\"\u001b[39m\u001b[38;5;124mnbformat_minor\u001b[39m\u001b[38;5;124m\"\u001b[39m: \u001b[38;5;241m5\u001b[39m\n\u001b[0;32m     79\u001b[0m }\n",
      "\u001b[1;31mNameError\u001b[0m: name 'null' is not defined"
     ]
    }
   ],
   "source": [
    "import sys\n",
    "sys.path.append(\"code\")\n",
    "from project_functions3 import load_and_process\n",
    "\n",
    "dfc = load_and_process(\"../data/raw/Wellbeing_and_lifestyle_data_Kaggle.csv\")"
   ]
  },
  {
   "cell_type": "code",
   "execution_count": null,
   "metadata": {},
   "outputs": [],
   "source": [
    "#Check file types\n",
    "dfa.dtypes"
   ]
  },
  {
   "cell_type": "markdown",
   "metadata": {},
   "source": [
    "### Observation \n",
    "- Column **BMI_RANGE** and **TODO_COMPLETED** are type int64.\n",
    "- **BMI_RANGE** data are 1 and 2 with each data brackets a BMI range. They do not represent BMI value.\n",
    "- Therefore, data type in **BMI_RANGE** needs to be changed to object to be excluded from being identiifed as numerical.\n",
    "- This allows **BMI_RANGE** data to be used as hue when plotting graphs. \n",
    "- Column **TODO_COMPLETED** is changed to object type so it can be used as hue when plotting graphs. "
   ]
  },
  {
   "cell_type": "code",
   "execution_count": null,
   "metadata": {},
   "outputs": [],
   "source": [
    "dfa['BMI_RANGE'] = dfa.BMI_RANGE.astype(object)\n",
    "dfa['TODO_COMPLETED'] = dfa.TODO_COMPLETED.astype(object)"
   ]
  },
  {
   "cell_type": "code",
   "execution_count": null,
   "metadata": {},
   "outputs": [],
   "source": [
    "#Check file types again\n",
    "dfa.dtypes"
   ]
  },
  {
   "cell_type": "code",
   "execution_count": null,
   "metadata": {},
   "outputs": [],
   "source": [
    "dfa.head()"
   ]
  },
  {
   "cell_type": "markdown",
   "metadata": {},
   "source": [
    "### Observation\n",
    "- No NaN values recorded for the focused columns in the dataframe."
   ]
  },
  {
   "cell_type": "code",
   "execution_count": null,
   "metadata": {},
   "outputs": [],
   "source": [
    "dfa.describe(include='number').T"
   ]
  },
  {
   "cell_type": "code",
   "execution_count": null,
   "metadata": {},
   "outputs": [],
   "source": [
    "dfa.describe(exclude='number').T"
   ]
  },
  {
   "cell_type": "markdown",
   "metadata": {},
   "source": [
    "### Observation\n",
    "- Daily Stress column shows that there are 7 unique values when there are only 6 levels option of answers.\n",
    "- This means that there is an unwanted value in the dataframe column.\n",
    "- Therefore, the row containing this value must be recognised and dropped."
   ]
  },
  {
   "cell_type": "code",
   "execution_count": null,
   "metadata": {},
   "outputs": [],
   "source": [
    "dfa[\"DAILY_STRESS\"].unique()"
   ]
  },
  {
   "cell_type": "code",
   "execution_count": null,
   "metadata": {},
   "outputs": [],
   "source": [
    "dfa.loc[dfa[\"DAILY_STRESS\"]==\"1/1/00\"]"
   ]
  },
  {
   "cell_type": "code",
   "execution_count": null,
   "metadata": {},
   "outputs": [],
   "source": [
    "dfa = dfa.drop([10005]).reset_index(drop=True)\n",
    "dfa"
   ]
  },
  {
   "cell_type": "markdown",
   "metadata": {},
   "source": [
    "### Observation\n",
    "- One row is dropped from the dataframe due to an illogical value in Daily Stress column leaving 15971 rows."
   ]
  },
  {
   "cell_type": "markdown",
   "metadata": {},
   "source": [
    "### Task 2: Method Chaining and writing Python programs"
   ]
  },
  {
   "cell_type": "code",
   "execution_count": null,
   "metadata": {},
   "outputs": [],
   "source": [
    "# Step 1: Build and test your method chain(s)\n",
    "\n",
    "import pandas as pd\n",
    "import numpy as np\n",
    "\n",
    "df = pd.read_csv(\"../data/raw/Wellbeing_and_lifestyle_data_Kaggle.csv\")\n",
    "\n",
    "# Method chaining begins\n",
    "\n",
    "dfamc = (\n",
    "    pd.DataFrame(df)\n",
    "    .drop(columns=[\"PLACES_VISITED\", \"CORE_CIRCLE\", \"SUPPORTING_OTHERS\", \n",
    "                    \"SOCIAL_NETWORK\", \"ACHIEVEMENT\", \"DONATION\", \"LOST_VACATION\", \n",
    "                    \"DAILY_SHOUTING\", \"SUFFICIENT_INCOME\", \"PERSONAL_AWARDS\", \"TIME_FOR_PASSION\", \n",
    "                    \"WEEKLY_MEDITATION\", \"AGE\", \"WORK_LIFE_BALANCE_SCORE\", \"FLOW\", \"LIVE_VISION\", \n",
    "                    \"Timestamp\"])\n",
    "    .dropna()\n",
    "    .assign(BMI_RANGE = lambda x: x['BMI_RANGE'].astype(object),\n",
    "            TODO_COMPLETED = lambda x: x['TODO_COMPLETED'].astype(object))\n",
    "    .drop([10005]) # data in index 10005 column DAILY_STRESS is irrelevent, so the row is dropped.\n",
    "    .reset_index(drop=True)\n",
    ")\n",
    "      \n",
    "\n",
    "dfamc"
   ]
  },
  {
   "cell_type": "code",
   "execution_count": null,
   "metadata": {},
   "outputs": [],
   "source": []
  },
  {
   "cell_type": "markdown",
   "metadata": {},
   "source": [
    "### Task 3: Conduct your analysis to help answer your research question(s)"
   ]
  },
  {
   "cell_type": "markdown",
   "metadata": {},
   "source": [
    "## Research question/interests\n",
    "\n",
    "**Is being self-sufficient the main core of self-care in leading a thriving life?**\n",
    "\n",
    "This research question is exploring to find out if physical health is the foundation for a healthy mind. I'm assuming that a person who is able to take care of oneself would have a great self-discipline in navigating life, hence will be better in being productive in daily life. As the concept of healthy body equals to healthy mind, I’m planning to compare factors that constitute to physical health (Sleep_Hours, BMI, Fruit_veggies, Daily_Steps) to healthy mind factors (Todo_complete, Daily_stress).\n",
    "\n",
    "### Analysis Plan:\n",
    "1. I would only keep the columns of the factors  I’m interested in (Sleep_Hours, BMI_range, Fruit_veggies, Daily Steps, Todo_complete, Daily_stress) and demographic (Gender) for observation purposes.\n",
    "1. I will then remove rows that contain Na values to draw a more solid observation and apply the dataframe describe function for an overview of the data.\n",
    "1. Then, I would observe the distribution of (Fruit_veggies and  Daily_Steps) to (BMI_range) as a measure of healthy body, and distribution of (sleep_hours and BMI_range) to (todo_complete) to see if self-sufficient will drive motivation to accomplish things in life.\n",
    "1. I will then observe the correlation between (todo_complete and daily_stress) to conclude whether an orderly and productive life would impose less stress and (BMI_range) to (daily_stress) to see if healthy lifestyle will lead to healthy mind."
   ]
  },
  {
   "cell_type": "markdown",
   "metadata": {},
   "source": [
    "### Data Visualisation"
   ]
  },
  {
   "cell_type": "code",
   "execution_count": null,
   "metadata": {
    "tags": []
   },
   "outputs": [],
   "source": [
    "sns.lineplot(x=\"DAILY_STEPS\", y=\"FRUITS_VEGGIES\",\n",
    "             hue=\"BMI_RANGE\", palette=\"muted\",\n",
    "             data=dfa)"
   ]
  },
  {
   "cell_type": "markdown",
   "metadata": {},
   "source": [
    "### Observation\n",
    "- The line graph shows that at each amount of daily steps, higher intake of fruits and vegetables result in lower BMI range (1; below 25 BMI count)\n",
    "- This indicates that that fruits and vegetables plays a bigger role than daily steps in contributing to BMI index."
   ]
  },
  {
   "cell_type": "code",
   "execution_count": null,
   "metadata": {},
   "outputs": [],
   "source": [
    "g = sns.catplot(\n",
    "    data=dfa, x=\"DAILY_STEPS\", y=\"FRUITS_VEGGIES\",\n",
    "    hue=\"BMI_RANGE\", palette=\"muted\", col=\"GENDER\",\n",
    "    capsize=.2, errorbar=\"se\",\n",
    "    kind=\"point\", height=6, aspect=.75,\n",
    ")\n",
    "g.despine(left=True)"
   ]
  },
  {
   "cell_type": "code",
   "execution_count": null,
   "metadata": {},
   "outputs": [],
   "source": [
    "sns.lineplot(data=dfa, x=\"DAILY_STEPS\", y=\"FRUITS_VEGGIES\",\n",
    "    hue=\"BMI_RANGE\", palette=\"muted\", col=\"GENDER\",\n",
    "    capsize=.2, errorbar=\"se\",\n",
    "    kind=\"point\", height=6, aspect=.75,"
   ]
  },
  {
   "cell_type": "markdown",
   "metadata": {},
   "source": [
    "### Observation\n",
    "- Demographically, male eat less fruits and vegetables than female.\n"
   ]
  },
  {
   "cell_type": "code",
   "execution_count": null,
   "metadata": {},
   "outputs": [],
   "source": [
    "sns.catplot(\n",
    "    data=dfa, kind=\"bar\",\n",
    "    x=\"SLEEP_HOURS\", y=\"TODO_COMPLETED\", hue=\"BMI_RANGE\", palette=\"dark\")"
   ]
  },
  {
   "cell_type": "markdown",
   "metadata": {},
   "source": [
    "### Observation\n",
    "- Overall, BMI_RANGE level 1 (lower BMI count: not overweight) has higher completed task than BMI_RANGE level 2.\n",
    "- The completed task increase as sleep hours increases from 1 to 8, then decrease as sleep hours go beyond 8.\n",
    "- This graph shows that 8 hours of sleep with level 1 of BMI_RANGE has the highest productivity in daily life measured by how well one complete their tasks, followed by level 2 of BMI_RANGE, although not by much difference.\n",
    "- This indicates that the ability to take care of oneself (optimum hours of sleep and BMI range) determine the level of productivity in daily as driven by self-discipline."
   ]
  },
  {
   "cell_type": "code",
   "execution_count": null,
   "metadata": {},
   "outputs": [],
   "source": [
    "g = sns.catplot(dfa, x=\"SLEEP_HOURS\", y=\"TODO_COMPLETED\", hue=\"BMI_RANGE\",\n",
    "    palette=\"muted\", col=\"GENDER\", kind=\"bar\"\n",
    ")\n",
    "g.despine(left=True)"
   ]
  },
  {
   "cell_type": "markdown",
   "metadata": {},
   "source": [
    "### Observation\n",
    "- Completed task peak at 8 hours of sleep for female and at 7 hours of sleep for male."
   ]
  },
  {
   "cell_type": "code",
   "execution_count": null,
   "metadata": {},
   "outputs": [],
   "source": [
    "s = sns.boxplot(data=dfa, x=\"BMI_RANGE\", y=\"DAILY_STRESS\", hue=\"GENDER\")\n",
    "sns.move_legend(s, \"upper left\", bbox_to_anchor=(1, 1))"
   ]
  },
  {
   "cell_type": "markdown",
   "metadata": {},
   "source": [
    "### Observation\n",
    "- The boxplot graph shows that lower BMI count in males result in lower levels of daily stress compared to female."
   ]
  },
  {
   "cell_type": "code",
   "execution_count": null,
   "metadata": {},
   "outputs": [],
   "source": [
    "sns.displot(\n",
    "    dfa, x=\"DAILY_STRESS\", col=\"GENDER\", row=\"BMI_RANGE\",\n",
    "    binwidth=3, height=3, facet_kws=dict(margin_titles=True),\n",
    ")"
   ]
  },
  {
   "cell_type": "code",
   "execution_count": null,
   "metadata": {},
   "outputs": [],
   "source": [
    "sns.displot(\n",
    "    dfa, x=\"DAILY_STRESS\", col=\"GENDER\", row=\"BMI_RANGE\",\n",
    "    binwidth=3, height=3, facet_kws=dict(margin_titles=True),\n",
    ")\n",
    "sns.countplot(data=dfa, x=\"DAILY_STRESS\", hue=\"GENDER\")"
   ]
  },
  {
   "cell_type": "code",
   "execution_count": null,
   "metadata": {},
   "outputs": [],
   "source": [
    "sns."
   ]
  },
  {
   "cell_type": "code",
   "execution_count": null,
   "metadata": {},
   "outputs": [],
   "source": [
    "b = sns.boxplot(x=\"TODO_COMPLETED\", y=\"DAILY_STRESS\", hue=\"GENDER\",\n",
    "           palette=[\"m\", \"g\"],\n",
    "            data=dfa)\n",
    "sns.despine(offset=10, trim=True)\n",
    "sns.move_legend(b, \"upper left\", bbox_to_anchor=(1, 1))"
   ]
  },
  {
   "cell_type": "markdown",
   "metadata": {},
   "source": [
    "### Observation\n",
    "- The boxplot graph shows that having more completed task result in lower levels of daily stress in males while females shown to retain the stress level regardless of increase in number of completed task.\n",
    "- Only at the highest number of completed task does females shown a bigger range with lower level of daily stress."
   ]
  },
  {
   "cell_type": "code",
   "execution_count": null,
   "metadata": {},
   "outputs": [],
   "source": [
    "sns.displot(\n",
    "    dfa, x=\"TODO_COMPLETED\", col=\"DAILY_STRESS\", row=\"GENDER\", kind=\"hist\",\n",
    "    binwidth=3, height=3, facet_kws=dict(margin_titles=True),\n",
    ")"
   ]
  }
 ],
 "metadata": {
  "kernelspec": {
   "display_name": "Python 3 (ipykernel)",
   "language": "python",
   "name": "python3"
  },
  "language_info": {
   "codemirror_mode": {
    "name": "ipython",
    "version": 3
   },
   "file_extension": ".py",
   "mimetype": "text/x-python",
   "name": "python",
   "nbconvert_exporter": "python",
   "pygments_lexer": "ipython3",
   "version": "3.10.9"
  }
 },
 "nbformat": 4,
 "nbformat_minor": 4
}
