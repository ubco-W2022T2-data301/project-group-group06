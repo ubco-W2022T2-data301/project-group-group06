{
 "cells": [
  {
   "cell_type": "markdown",
   "metadata": {},
   "source": [
    "# Irdina Iskandar"
   ]
  },
  {
   "cell_type": "markdown",
   "metadata": {},
   "source": [
    "## Research question/interests\n",
    "\n",
    "**Are there any lifestyle factors that are particularly relevant for certain demographic groups, as noted by their correlation in regards to work-life balance scores?**\n",
    "\n",
    "While there are many factors impacting one’s work-life balance and wellbeing, there might be systematic patterns between demographic groups that makes a lifestyle factor prevail from the rest. I plan on answering this research question by observing descriptive statistics of lifestyle factors among different demographic groups and obtain correlation value for these factors. Then compare the correlations to work-life balance. \n",
    "\n",
    "### Analysis Plan\n",
    "1. First, I would filter the data from any NAs and re-index them if necessary.\n",
    "2. Then I would subset the data to remove the timestamp column as it is irrelevant for my research question\n",
    "3. I would group the dataset by gender then observe the frequency of scores and the descriptive statistics of each lifestyle factor; then I would observe the distribution of each lifestyle factor to observe its spread between different gender demographics. I would repeat this with the age demographic as well. \n",
    "4. Then, I would like to observe the correlation between these factors and the demographic variables (i.e., age and gender). This can be achieved through the correlation function in the pandas package. I plan to visualize the correlations through a correlogram or correlation heat map and compare the plots.\n",
    "5. Among the strong correlated factors, I would utilize these factors to see how that would then correlate to work-life balance scores. "
   ]
  }
 ],
 "metadata": {
  "kernelspec": {
   "display_name": "Python 3 (ipykernel)",
   "language": "python",
   "name": "python3"
  }
 },
 "nbformat": 4,
 "nbformat_minor": 4
}
