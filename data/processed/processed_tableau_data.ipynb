{
 "cells": [
  {
   "cell_type": "code",
   "execution_count": 7,
   "id": "22e3e84a-bf87-4168-9db4-fcfa35134d91",
   "metadata": {},
   "outputs": [],
   "source": [
    "import sys\n",
    "sys.path.append('../../analysis/code')\n",
    "from project_functions1 import load_clean_process\n",
    "data = load_clean_process(\"../raw/Wellbeing_and_lifestyle_data_Kaggle.csv\")"
   ]
  },
  {
   "cell_type": "code",
   "execution_count": 9,
   "id": "51cef570-d65e-4c65-8b31-2c2fc35ca27e",
   "metadata": {},
   "outputs": [],
   "source": [
    "data.to_csv('../../dashboard/ailie_tableau_data.csv')"
   ]
  }
 ],
 "metadata": {
  "kernelspec": {
   "display_name": "Python 3 (ipykernel)",
   "language": "python",
   "name": "python3"
  },
  "language_info": {
   "codemirror_mode": {
    "name": "ipython",
    "version": 3
   },
   "file_extension": ".py",
   "mimetype": "text/x-python",
   "name": "python",
   "nbconvert_exporter": "python",
   "pygments_lexer": "ipython3",
   "version": "3.10.8"
  }
 },
 "nbformat": 4,
 "nbformat_minor": 5
}
